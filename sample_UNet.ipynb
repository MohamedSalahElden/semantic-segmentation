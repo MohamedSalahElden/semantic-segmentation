{
 "cells": [
  {
   "cell_type": "markdown",
   "metadata": {},
   "source": [
    "# Packages Import"
   ]
  },
  {
   "cell_type": "code",
   "execution_count": null,
   "metadata": {
    "id": "gPmd0EoowsPm"
   },
   "outputs": [],
   "source": [
    "import tensorflow as tf\n",
    "import os\n",
    "import numpy as np\n",
    "import matplotlib.pyplot as plt\n",
    "import pandas as pd\n",
    "from utils.labels import map_class_to_rgb, adjust_mask\n",
    "import segmentation_models as sm\n",
    "from keras.callbacks import ModelCheckpoint, ReduceLROnPlateau\n",
    "from utils.util import *\n",
    "from arch.deeplabv3plus import Deeplabv3\n",
    "\n"
   ]
  },
  {
   "cell_type": "markdown",
   "metadata": {},
   "source": [
    "# Paths and Constants"
   ]
  },
  {
   "cell_type": "code",
   "execution_count": null,
   "metadata": {
    "id": "WYDew7-q4vLI"
   },
   "outputs": [],
   "source": [
    "##### paths\n",
    "\n",
    "\n",
    "base_data_dir = 'data'\n",
    "saved_models = 'checkpoint'\n",
    "\n",
    "train_path = os.path.join(base_data_dir, 'data')\n",
    "test_path = os.path.join(base_data_dir, 'testing')\n",
    "\n",
    "classes_path = os.path.join(base_data_dir, 'classes.csv')\n",
    "\n",
    "\n",
    "iti_data_dir = os.path.join(base_data_dir, 'aroundITI')\n",
    "single_frames_dir = os.path.join(base_data_dir, 'single_frames')\n",
    "videos_dir = os.path.join(base_data_dir, 'videos')\n",
    "\n",
    "output_images_dir = os.path.join(base_data_dir, 'output_images')\n",
    "output_videos_dir = os.path.join(base_data_dir, 'output_videos')\n",
    "\n",
    "\n",
    "\n",
    "## parmeters\n",
    "\n",
    "batch_sz =8\n",
    "num_classes = 31\n",
    "DIM=256\n",
    "seed = 1\n",
    "\n",
    "\n",
    "\n",
    "\n",
    "\n"
   ]
  },
  {
   "cell_type": "markdown",
   "metadata": {},
   "source": [
    "# Read Labels file"
   ]
  },
  {
   "cell_type": "code",
   "execution_count": null,
   "metadata": {},
   "outputs": [],
   "source": [
    "classes = pd.read_csv(classes_path,index_col='name')"
   ]
  },
  {
   "cell_type": "markdown",
   "metadata": {},
   "source": [
    "# data generators"
   ]
  },
  {
   "cell_type": "code",
   "execution_count": null,
   "metadata": {},
   "outputs": [],
   "source": [
    "# Data generator\n",
    "train_generator_fn, val_generator_fn, train_length, validation_length = train_valid_generator(train_path, seed, batch_sz, DIM)"
   ]
  },
  {
   "cell_type": "markdown",
   "metadata": {},
   "source": [
    "# Model (change here)"
   ]
  },
  {
   "cell_type": "code",
   "execution_count": null,
   "metadata": {},
   "outputs": [],
   "source": [
    "sm.set_framework('tf.keras')\n",
    "\n",
    "model = sm.Unet('inceptionresnetv2', classes=31, activation='softmax')"
   ]
  },
  {
   "cell_type": "code",
   "execution_count": null,
   "metadata": {},
   "outputs": [],
   "source": [
    "#model.summary()"
   ]
  },
  {
   "cell_type": "markdown",
   "metadata": {},
   "source": [
    "# freeze layers (optional)"
   ]
  },
  {
   "cell_type": "code",
   "execution_count": null,
   "metadata": {},
   "outputs": [],
   "source": [
    "## xception exit_flow_block2_separable_conv1_depthwise\n",
    "## mobilenetv2 expanded_conv_16_project\n",
    "\n",
    "# freeze_model_layers(model,'exit_flow_block2_separable_conv1_depthwise')\n",
    "\n",
    "# model.summary()"
   ]
  },
  {
   "cell_type": "markdown",
   "metadata": {},
   "source": [
    "# model compilation and fitting (you may change here if needed)"
   ]
  },
  {
   "cell_type": "code",
   "execution_count": null,
   "metadata": {},
   "outputs": [],
   "source": [
    "from tensorflow.python.keras.optimizers import adam_v2\n",
    "\n",
    "model_name=model._name\n",
    "\n",
    "cp_name = os.path.join(saved_models,\n",
    "                            model_name+'_epoch_{epoch:03d}_valLoss_{val_loss:.4f}.h5')\n",
    "\n",
    "model_checkpoint = ModelCheckpoint(filepath=cp_name\n",
    "                                   , monitor='val_loss',verbose=1, save_best_only=True)\n",
    "reduce_lr = ReduceLROnPlateau(\n",
    "    monitor = \"val_loss\", \n",
    "    patience = 20,\n",
    "    verbose = 1, \n",
    "    factor = 0.2, \n",
    "    min_lr = 0.000001,\n",
    ")\n",
    "\n",
    "\n",
    "model.compile(\n",
    "    optimizer= tf.keras.optimizers.Adam(learning_rate=1e-4),\n",
    "    # optimizer='Nadam',\n",
    "    loss=sm.losses.cce_jaccard_loss,\n",
    "    metrics=[sm.metrics.iou_score],\n",
    "    \n",
    ")\n",
    "\n",
    "history = model.fit(\n",
    "    train_generator_fn(),\n",
    "    steps_per_epoch=train_length // batch_sz\n",
    "  , validation_steps=validation_length // batch_sz,\n",
    "   epochs=100,\n",
    "   validation_data= val_generator_fn(),  \n",
    "   callbacks=[model_checkpoint,reduce_lr]\n",
    ")\n",
    "\n",
    "\n"
   ]
  },
  {
   "cell_type": "markdown",
   "metadata": {},
   "source": [
    "# plotting loss and MeanIou"
   ]
  },
  {
   "cell_type": "code",
   "execution_count": null,
   "metadata": {},
   "outputs": [],
   "source": [
    "%matplotlib inline\n",
    "import matplotlib.pyplot as plt\n",
    "loss = history.history['loss']\n",
    "val_loss = history.history['val_loss']\n",
    "iou_score = history.history['iou_score']\n",
    "val_iou_score = history.history['val_iou_score']\n",
    "\n",
    "epochs = range(len(loss))\n",
    "\n",
    "plt.plot(epochs, loss, 'r', label='Training loss')\n",
    "plt.plot(epochs, val_loss, 'b', label='Validation loss')\n",
    "plt.title('Training and validation loss')\n",
    "plt.legend()\n",
    "plt.figure()\n",
    "\n",
    "plt.plot(epochs, iou_score, 'r', label='Training iou_score')\n",
    "plt.plot(epochs, val_iou_score, 'b', label='Validation iou_score')\n",
    "plt.title('Training and validation iou_score')\n",
    "plt.legend()\n",
    "\n",
    "plt.show()"
   ]
  },
  {
   "cell_type": "markdown",
   "metadata": {},
   "source": [
    "# loading Created Model"
   ]
  },
  {
   "cell_type": "code",
   "execution_count": null,
   "metadata": {},
   "outputs": [],
   "source": [
    "from keras.models import load_model\n",
    "\n",
    "model = load_model(filepath=model_checkpoint._write_filepath, custom_objects={\n",
    "    \"categorical_crossentropy_plus_jaccard_loss\":sm.losses.cce_jaccard_loss\n",
    "    ,\"iou_score\":sm.metrics.iou_score})"
   ]
  },
  {
   "cell_type": "markdown",
   "metadata": {},
   "source": [
    "# predicting Validation data"
   ]
  },
  {
   "cell_type": "code",
   "execution_count": null,
   "metadata": {},
   "outputs": [],
   "source": [
    "plot_predictions (train_path,model,DIM,mode='valid')"
   ]
  },
  {
   "cell_type": "markdown",
   "metadata": {},
   "source": [
    "# predicting test data"
   ]
  },
  {
   "cell_type": "code",
   "execution_count": null,
   "metadata": {},
   "outputs": [],
   "source": [
    "plot_predictions (test_path,model,DIM,mode='testing',test_sample_size=30)"
   ]
  },
  {
   "cell_type": "markdown",
   "metadata": {},
   "source": [
    "# predicting ITI Data"
   ]
  },
  {
   "cell_type": "code",
   "execution_count": null,
   "metadata": {},
   "outputs": [],
   "source": [
    "plot_predictions (iti_data_dir,model,DIM,mode='ITI')"
   ]
  }
 ],
 "metadata": {
  "interpreter": {
   "hash": "005bf040230a0d411425b97bf046d89bfd90c8a9c6ecb15bf71aa6f47ab3b4a2"
  },
  "kernelspec": {
   "display_name": "Python 3",
   "language": "python",
   "name": "python3"
  },
  "language_info": {
   "codemirror_mode": {
    "name": "ipython",
    "version": 3
   },
   "file_extension": ".py",
   "mimetype": "text/x-python",
   "name": "python",
   "nbconvert_exporter": "python",
   "pygments_lexer": "ipython3",
   "version": "3.8.5"
  }
 },
 "nbformat": 4,
 "nbformat_minor": 2
}
